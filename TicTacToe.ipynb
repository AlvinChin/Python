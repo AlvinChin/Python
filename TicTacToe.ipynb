{
 "cells": [
  {
   "cell_type": "code",
   "execution_count": 1,
   "metadata": {},
   "outputs": [],
   "source": [
    "from IPython.display import clear_output\n",
    "import random"
   ]
  },
  {
   "cell_type": "code",
   "execution_count": 2,
   "metadata": {},
   "outputs": [],
   "source": [
    "# a function that prints the boardframe for the game\n",
    "def display_board(b,nb):\n",
    "    #create list for board\n",
    "    clear_output()\n",
    "    row_lines=['-']*13 + [' ']*6 + ['-']*13\n",
    "    row1=['|',' ',b[1],' ','|',' ',b[2],' ','|',' ',b[3],' ','|',' ',' ',' ',' ',' ',' ','|',' ',nb[1],' ','|',' ',nb[2],' ','|',' ',nb[3],' ','|']\n",
    "    row2=['|',' ',b[4],' ','|',' ',b[5],' ','|',' ',b[6],' ','|',' ',' ',' ',' ',' ',' ','|',' ',nb[4],' ','|',' ',nb[5],' ','|',' ',nb[6],' ','|']\n",
    "    row3=['|',' ',b[7],' ','|',' ',b[8],' ','|',' ',b[9],' ','|',' ',' ',' ',' ',' ',' ','|',' ',nb[7],' ','|',' ',nb[8],' ','|',' ',nb[9],' ','|']\n",
    "    board=[row_lines,row1,row_lines,row2,row_lines,row3,row_lines]\n",
    "    print(''.join(row_lines))\n",
    "    print(''.join(row1))\n",
    "    print(''.join(row_lines))\n",
    "    print(''.join(row2))\n",
    "    print(''.join(row_lines))\n",
    "    print(''.join(row3))\n",
    "    print(''.join(row_lines))"
   ]
  },
  {
   "cell_type": "code",
   "execution_count": 3,
   "metadata": {},
   "outputs": [],
   "source": [
    "# a function that asks for the player peice choice 'X' or 'O'\n",
    "def player_input():\n",
    "    state=True\n",
    "    player2=''\n",
    "    player1 = input(\"Player 1 do you want to be 'X' or 'O'? \")\n",
    "    players = [player1,player2]\n",
    "    if player1!='X' and player1!='O':\n",
    "        #if player does not use 'X' or 'O', loops input until a valid answer is added\n",
    "        while state:\n",
    "            player1 = input(\"Please choose either 'X' or 'O' only! \")\n",
    "            if player1=='X':\n",
    "                player2==\"O\"\n",
    "                print(f\"Player 1 is 'X' and player 2 is 'O'! \")\n",
    "                players = ['X','O'] \n",
    "                return players\n",
    "                state=False\n",
    "            elif player1=='O':\n",
    "                player2==\"X\"\n",
    "                print(f\"Player 1 is 'O' and player 2 is 'X'! \")\n",
    "                players = ['O','X'] \n",
    "                return players\n",
    "                state=False\n",
    "            else:\n",
    "                a        \n",
    "    elif player1=='X':\n",
    "        player2=='O'\n",
    "        print(f\"Player 1 is 'X' and player 2 is 'O'! \")\n",
    "        players = ['X','O'] \n",
    "        return players\n",
    "    else:\n",
    "        player2=='X'\n",
    "        print(f\"Player 1 is 'O' and player 2 is 'X'! \")\n",
    "        players = ['O','X'] \n",
    "        return players"
   ]
  },
  {
   "cell_type": "code",
   "execution_count": 4,
   "metadata": {},
   "outputs": [],
   "source": [
    "def place_marker(board, num_board,marker, position):\n",
    "    board[position]=marker\n",
    "    num_board[position]= ' '\n",
    "    return board,num_board"
   ]
  },
  {
   "cell_type": "code",
   "execution_count": 5,
   "metadata": {},
   "outputs": [],
   "source": [
    "#function to check winning conditions: 3 in a row on all diagonals\n",
    "def win_check(board, mark):\n",
    "    return ((board[1] ==  board[2] ==  board[3] == mark) or # across the top\n",
    "    (board[4] ==  board[5] ==  board[6] == mark) or # across the middle\n",
    "    (board[7] ==  board[8] ==  board[9] == mark) or # across the bottom\n",
    "    (board[1] ==  board[4] ==  board[7] == mark) or # down the left side\n",
    "    (board[2] ==  board[5] ==  board[8] == mark) or # down the middle\n",
    "    (board[3] ==  board[6] ==  board[9] == mark) or # down the right side\n",
    "    (board[3] ==  board[5] ==  board[7] == mark) or # diagonal\n",
    "    (board[1] ==  board[5] ==  board[9] == mark)) # diagonal"
   ]
  },
  {
   "cell_type": "code",
   "execution_count": 6,
   "metadata": {},
   "outputs": [],
   "source": [
    "#a function to randomize which player goes first\n",
    "def choose_first():\n",
    "    num = random.randint(1,10)\n",
    "    if num<=5:\n",
    "        return 'player1'\n",
    "    else:\n",
    "        return 'player2'\n",
    "    pass"
   ]
  },
  {
   "cell_type": "code",
   "execution_count": 7,
   "metadata": {},
   "outputs": [],
   "source": [
    "#function that checks if input position is filled\n",
    "def space_check(board, position):\n",
    "    return board[position]==' '"
   ]
  },
  {
   "cell_type": "code",
   "execution_count": 8,
   "metadata": {},
   "outputs": [],
   "source": [
    "#function to check if board is full\n",
    "def full_board_check(board):\n",
    "    a = True\n",
    "    for y in board:\n",
    "        if y==' ':\n",
    "            a = False\n",
    "            break\n",
    "        else:\n",
    "            continue\n",
    "    return a"
   ]
  },
  {
   "cell_type": "code",
   "execution_count": 9,
   "metadata": {},
   "outputs": [],
   "source": [
    "#function to get new input positon for player\n",
    "def player_choice(board,player):\n",
    "    print('\\nPlayer',player, 'turn!')\n",
    "    new_position=int(input('Please choose a position (1-9): '))\n",
    "    space=space_check(board,new_position)\n",
    "    a = True\n",
    "    if space==False:\n",
    "        while a:\n",
    "            print('Position is filled!')\n",
    "            new_position=int(input('Please choose an empty position! '))\n",
    "            space=space_check(board,new_position)\n",
    "            if a==space:\n",
    "                a=False\n",
    "                return new_position\n",
    "            else:\n",
    "                continue\n",
    "    return new_position"
   ]
  },
  {
   "cell_type": "code",
   "execution_count": 10,
   "metadata": {},
   "outputs": [],
   "source": [
    "#function that asks if player wants to play again\n",
    "def replay():\n",
    "    play = input(\"Do you want to play again? Reply with 'y' for yes and 'n' for no. \")\n",
    "    a=True\n",
    "    if play!='y' and play!='n':\n",
    "        while a:\n",
    "            play = input(\"Please select only either 'y' or 'n'! \")\n",
    "            if play!='y' and play!='n':\n",
    "                continue\n",
    "            else:\n",
    "                return play=='y'\n",
    "            a=False\n",
    "    else:\n",
    "        return play=='y'"
   ]
  },
  {
   "cell_type": "code",
   "execution_count": 11,
   "metadata": {},
   "outputs": [],
   "source": [
    "#function to run the game\n",
    "def tictactoe():\n",
    "    print('Welcome to Tic Tac Toe!')\n",
    "    game_start = True\n",
    "    while game_start:\n",
    "    # loops until player stops game\n",
    "        board = ['#',' ',' ',' ',' ',' ',' ',' ',' ',' ']\n",
    "        board_position = ['#','1','2','3','4','5','6','7','8','9']\n",
    "        num_position = ['#','1','2','3','4','5','6','7','8','9']\n",
    "        display_board(board_position,num_position)\n",
    "        print('Board positions are arranged from 1-9 as shown above: \\n')\n",
    "        [player1,player2] = player_input()\n",
    "        # determines players' sign (either 'X' or 'O')\n",
    "        first_player = choose_first()\n",
    "        if first_player == player1:\n",
    "            print('Player 1 has been randomly chosen to go first!')\n",
    "            player =[player1,player2,'1','2']\n",
    "        else:\n",
    "            print('Player 2 has been randomly chosen to go first!')\n",
    "            player =[player2,player1,'2','1']\n",
    "        game_on = True\n",
    "        while game_on:\n",
    "            #First player turn to choose position\n",
    "            position = player_choice(board,player[2])\n",
    "            board,num_position = place_marker(board,num_position,player[0],position)\n",
    "            display_board(board,num_position)\n",
    "            p1_win = win_check(board,player[0])\n",
    "            full_board_check(board)\n",
    "            if p1_win == True:\n",
    "                print(f\"Player {player[2]} has won! \")\n",
    "                break\n",
    "            elif full_board_check(board) == True:\n",
    "                print(\"Board is filled! There is no winner!\")\n",
    "                break\n",
    "            #Second player turn to choose position\n",
    "            position = player_choice(board,player[3])\n",
    "            board,num_position = place_marker(board,num_position,player[1],position)\n",
    "            display_board(board,num_position)\n",
    "            p2_win = win_check(board,player[1])\n",
    "            full_board_check(board)\n",
    "            if p2_win == True:\n",
    "                print(f\"Player {player[3]} has won!\")\n",
    "                break\n",
    "            elif full_board_check(board) == True:\n",
    "                print(\"Board is filled! There is no winner!\")\n",
    "                break\n",
    "        game_start = replay()"
   ]
  },
  {
   "cell_type": "code",
   "execution_count": 12,
   "metadata": {},
   "outputs": [
    {
     "name": "stdout",
     "output_type": "stream",
     "text": [
      "-------------      -------------\n",
      "| O | X | O |      |   |   |   |\n",
      "-------------      -------------\n",
      "| X | O | X |      |   |   |   |\n",
      "-------------      -------------\n",
      "| O |   |   |      |   | 8 | 9 |\n",
      "-------------      -------------\n",
      "Player 2 has won! \n",
      "Do you want to play again? Reply with 'y' for yes and 'n' for no. n\n"
     ]
    }
   ],
   "source": [
    "tictactoe()"
   ]
  },
  {
   "cell_type": "code",
   "execution_count": null,
   "metadata": {},
   "outputs": [],
   "source": []
  }
 ],
 "metadata": {
  "kernelspec": {
   "display_name": "Python 3",
   "language": "python",
   "name": "python3"
  },
  "language_info": {
   "codemirror_mode": {
    "name": "ipython",
    "version": 3
   },
   "file_extension": ".py",
   "mimetype": "text/x-python",
   "name": "python",
   "nbconvert_exporter": "python",
   "pygments_lexer": "ipython3",
   "version": "3.7.6"
  }
 },
 "nbformat": 4,
 "nbformat_minor": 4
}
